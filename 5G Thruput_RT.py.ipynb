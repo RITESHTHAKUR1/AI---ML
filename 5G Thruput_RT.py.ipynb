{
 "cells": [
  {
   "cell_type": "code",
   "execution_count": 1,
   "id": "426d2d6b",
   "metadata": {},
   "outputs": [],
   "source": [
    "import math\n"
   ]
  },
  {
   "cell_type": "code",
   "execution_count": 1,
   "id": "c61e3392",
   "metadata": {},
   "outputs": [
    {
     "name": "stdout",
     "output_type": "stream",
     "text": [
      "Enter the 5G channel bandwidth in MHz : 100\n",
      "Enter the 5G subcarrier spacing in kHz : 14\n",
      "Invalid Input. Please try again\n",
      "Enter the 5G channel bandwidth in MHz : 100\n",
      "Enter the 5G subcarrier spacing in kHz : 120\n",
      "FR2_TDD\n",
      "PRBs for DL Data : 66\n",
      "Enter the number of aggregated Component Carriers : 8\n",
      "Enter the no of dl mimo layers : 2\n",
      "Enter the bler in percentage :10\n",
      "Enter the MCS Index from DT :20\n",
      "Spectral efficincy: 5.332\n",
      "NR THRUPUT : 3551.97 Mbps\n"
     ]
    }
   ],
   "source": [
    "import math\n",
    "\n",
    "while(True):\n",
    "    BW=input('Enter the 5G channel bandwidth in MHz : ')\n",
    "    SCS=input('Enter the 5G subcarrier spacing in kHz : ')\n",
    "    if int(BW) in (5,10,15,20,40) and int(SCS) in (15,30,60):\n",
    "        FRAME_Type=str('FDD')        \n",
    "        #Break out of loop and continue code  \n",
    "        break \n",
    "    elif int(BW) in (60,80,100) and int(SCS) in (30,60):\n",
    "        FRAME_Type=str('FR1_TDD')        \n",
    "        #Break out of loop and continue code  \n",
    "        break \n",
    "    elif int(BW)==50 and int(SCS) in (15,30,60):\n",
    "        FRAME_Type=str('FR1_TDD')        \n",
    "        #Break out of loop and continue code  \n",
    "        break \n",
    "    elif int(BW) in (100,200) and int(SCS)==120:\n",
    "        FRAME_Type=str('FR2_TDD')        \n",
    "        #Break out of loop and continue code  \n",
    "        break\n",
    "    else:\n",
    "        #Rerun loop, and asks user to re-enter data \n",
    "        print (\"Invalid Input. Please try again\")\n",
    "        continue \n",
    "        \n",
    "print(FRAME_Type)\n",
    "       \n",
    "Number_of_PRBs=math.ceil(((int(BW)*1000/(int(SCS)*12))-4))   \n",
    "    \n",
    "print(\"PRBs for DL Data : \" +str(Number_of_PRBs))\n",
    "\n",
    "CC=input('Enter the number of aggregated Component Carriers : ')\n",
    "MIMO=input('Enter the no of dl mimo layers : ')\n",
    "bler=input('Enter the bler in percentage :')\n",
    "MCS_index=input('Enter the MCS Index from DT :')\n",
    "Speceff=[0.2344, 0.3770, 0.6016, 0.8770, 1.1758, 1.4766, 1.6953, 1.9141, 2.1602, 2.4063, 2.5703, 2.7305, 3.0293, 3.3223, 3.6094, 3.9023, 4.2129, 4.5234, 4.8164, 5.1152, 5.3320, 5.5547, 5.8906, 6.2266, 6.5703, 6.9141, 7.1602, 7.4063]\n",
    "Spec_eff=Speceff[int(MCS_index)]\n",
    "print ('Spectral efficincy: '+str(Spec_eff))\n",
    "\n",
    "if str(FRAME_Type)=='FR1_TDD':\n",
    "    no_of_slots_DL=82\n",
    "    no_of_slots_SP=32\n",
    "    Slot_Pattern_Length1=float(1000/80)\n",
    "    DATA_REs_DL=int(144) #subcarrier(12)xdata Symbols(12)\n",
    "    DATA_REs_SP=int(84) #subcarrier(12)xdata Symbols(7)\n",
    "    TBS_DL=float(82*144*int(MIMO)*float(Spec_eff)*int(Number_of_PRBs))\n",
    "    TBS_SP=float(32*84*int(MIMO)*float(Spec_eff)*int(Number_of_PRBs))\n",
    "    \n",
    "elif str(FRAME_Type)=='FDD':\n",
    "    no_of_slots_DL=19\n",
    "    no_of_slots_SP=0\n",
    "    Slot_Pattern_Length1=float(1000/20)\n",
    "    DATA_REs_DL=int(132) #subcarrier(12)xdata Symbols(11)\n",
    "    DATA_REs_SP=0\n",
    "    TBS_DL=float(19*132*int(MIMO)*float(Spec_eff)*int(Number_of_PRBs))\n",
    "    TBS_SP=0\n",
    "    \n",
    "elif str(FRAME_Type)=='FR2_TDD':\n",
    "    no_of_slots_DL=360\n",
    "    no_of_slots_SP=112\n",
    "    Slot_Pattern_Length1=float(1000/80)\n",
    "    DATA_REs_DL=int(144) #subcarrier(12)xdata Symbols(12)\n",
    "    DATA_REs_SP=int(84) #subcarrier(12)xdata Symbols(7)\n",
    "    TBS_DL=float(360*144*int(MIMO)*float(Spec_eff)*int(Number_of_PRBs))\n",
    "    TBS_SP=float(112*84*int(MIMO)*float(Spec_eff)*int(Number_of_PRBs))\n",
    "    \n",
    "NR_DL_Thp1=(float(TBS_DL)+float(TBS_SP))*int(Slot_Pattern_Length1)*((100-int(bler))/100)*int(CC)/1024/1024\n",
    "            \n",
    "NR_DL_Thp=round(NR_DL_Thp1,2)\n",
    "        \n",
    "print (\"NR THRUPUT : \" +str(NR_DL_Thp)+\" Mbps\")\n",
    "\n"
   ]
  },
  {
   "cell_type": "code",
   "execution_count": null,
   "id": "fd51ef14",
   "metadata": {},
   "outputs": [],
   "source": []
  },
  {
   "cell_type": "code",
   "execution_count": null,
   "id": "26239676",
   "metadata": {},
   "outputs": [],
   "source": []
  },
  {
   "cell_type": "code",
   "execution_count": null,
   "id": "f05a6058",
   "metadata": {},
   "outputs": [],
   "source": []
  },
  {
   "cell_type": "code",
   "execution_count": 12,
   "id": "d19412ea",
   "metadata": {},
   "outputs": [
    {
     "ename": "SyntaxError",
     "evalue": "invalid syntax. Perhaps you forgot a comma? (2611101697.py, line 1)",
     "output_type": "error",
     "traceback": [
      "\u001b[1;36m  Input \u001b[1;32mIn [12]\u001b[1;36m\u001b[0m\n\u001b[1;33m    BW=(5 MHz,10 MHz,15 MHz,20 MHz,25 MHz,30 MHz,40 MHz,50 MHz,60 MHz,80 MHz,90 MHz,100 MHz)\u001b[0m\n\u001b[1;37m        ^\u001b[0m\n\u001b[1;31mSyntaxError\u001b[0m\u001b[1;31m:\u001b[0m invalid syntax. Perhaps you forgot a comma?\n"
     ]
    }
   ],
   "source": [
    "BW=(5 MHz,10 MHz,15 MHz,20 MHz,25 MHz,30 MHz,40 MHz,50 MHz,60 MHz,80 MHz,90 MHz,100 MHz)\n",
    "15 kHz_PRBs=(25,52,79,106,133,160,216,270,NA,NA,NA,NA)\n",
    "30 kHz_PRBs=(11,24,38,51,65,78,106,133,162,217,245,273)\n",
    "60 kHz_PRBs=(NA,11,18,24,31,38,51,65,79,107,121,135)"
   ]
  },
  {
   "cell_type": "code",
   "execution_count": 19,
   "id": "089ab86c",
   "metadata": {},
   "outputs": [
    {
     "ename": "SyntaxError",
     "evalue": "invalid syntax. Perhaps you forgot a comma? (576105397.py, line 1)",
     "output_type": "error",
     "traceback": [
      "\u001b[1;36m  Input \u001b[1;32mIn [19]\u001b[1;36m\u001b[0m\n\u001b[1;33m    SCS=(50 MHz,100 MHz,200 MHz,400 MHz)\u001b[0m\n\u001b[1;37m         ^\u001b[0m\n\u001b[1;31mSyntaxError\u001b[0m\u001b[1;31m:\u001b[0m invalid syntax. Perhaps you forgot a comma?\n"
     ]
    }
   ],
   "source": [
    "SCS=(50 MHz,100 MHz,200 MHz,400 MHz)\n",
    "60 kHz_PRBs=(66,132,264,NA)\n",
    "120 kHz_PRBs=(32,66,132,264)"
   ]
  },
  {
   "cell_type": "code",
   "execution_count": null,
   "id": "33c7eccd",
   "metadata": {},
   "outputs": [],
   "source": []
  }
 ],
 "metadata": {
  "kernelspec": {
   "display_name": "Python 3 (ipykernel)",
   "language": "python",
   "name": "python3"
  },
  "language_info": {
   "codemirror_mode": {
    "name": "ipython",
    "version": 3
   },
   "file_extension": ".py",
   "mimetype": "text/x-python",
   "name": "python",
   "nbconvert_exporter": "python",
   "pygments_lexer": "ipython3",
   "version": "3.10.2"
  }
 },
 "nbformat": 4,
 "nbformat_minor": 5
}
